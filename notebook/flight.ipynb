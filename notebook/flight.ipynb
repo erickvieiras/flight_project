{
 "cells": [
  {
   "cell_type": "markdown",
   "metadata": {},
   "source": [
    "# PROPENSITY TO PURCHASE AIRLINE TICKETS"
   ]
  },
  {
   "cell_type": "markdown",
   "metadata": {},
   "source": [
    "## SOLUTION PLANNING\n",
    "\n",
    "### INPUT\n",
    "\n",
    "#### **BUSINESS PROBLEM**: \n",
    "\n",
    "Uma companhia aérea deseja aumentar o número de passageiros que participam de seu programa de fidelidade, composto por três níveis de cartões: **Ametista**, **Ônix** e **Rubi**, sendo o Ametista o de menor e o Rubi o de maior benefício. \n",
    "O time de marketing forneceu uma base de novos clientes, porém o time comercial tem recursos limitados para abordar todos. \n",
    "Para otimizar as abordagens, o time comercial precisa saber qual a probabilidade de cada cliente assinar um dos três tipos de cartão.\n",
    "\n",
    "**Objetivo**: Determinar a probabilidade de cada cliente assinar o cartão Ametista, Ônix ou Rubi, permitindo que o time comercial possa fazer ofertas mais eficientes e aumentar as taxas de conversão, maximizando o impacto das abordagens e otimizando os esforços de venda.\n"
   ]
  },
  {
   "cell_type": "markdown",
   "metadata": {},
   "source": [
    "### OUTPUT\n",
    "\n",
    "#### **Relatório contendo as respostas para as seguintes questões de negócio:**\n",
    "\n",
    "1 . Quem são os clientes com maior probabilidade de assinar cada cartão?\n",
    "\n",
    "2 . Qual é a distribuição percentual da probabilidade de assinatura para os três níveis de cartão (Ametista, Ônix, Rubi)?\n",
    "\n",
    "3 . Quais as características mais relevantes dos clientes que influenciam na decisão de assinatura?\n",
    "\n",
    "4 . Quais as taxas de conversão esperadas ao utilizar as probabilidades como critério de abordagem?\n",
    "\n",
    "5 . Qual o impacto estimado de receita com a conversão dos clientes, levando em consideração os três tipos de cartões?\n",
    "\n",
    "6 . Quais são os principais fatores que aumentam ou diminuem a probabilidade de um cliente assinar o cartão Rubi (o de maior valor)?\n",
    "\n",
    "### TASKS\n",
    "\n",
    "1 . Quem são os clientes com maior probabilidade de assinar cada cartão?\n",
    "\n",
    "**Analisar os perfis de clientes para entender o comportamento e determinar, por exemplo:**\n",
    "\n",
    " - Histórico de compras de passagens.\n",
    "\n",
    " - Frequência de uso dos serviços da companhia aérea.\n",
    "\n",
    " - Preferências por rotas e destinos.\n",
    "\n",
    " - Gasto médio por transação.\n",
    "\n",
    " - Engajamento em outros canais de relacionamento (como redes sociais ou newsletter).\n",
    " \n",
    " - Quantos clientes possuem alta probabilidade de assinatura e qual o percentual correspondente?\n",
    " \n",
    " - Determinar a quantidade total de clientes com alta probabilidade para cada cartão (Ametista, Ônix, Rubi).\n",
    " \n",
    " - Calcular o percentual de cada grupo de clientes dentro da base total.\n",
    "\n",
    "2 . Quais são as características mais relevantes dos clientes?\n",
    "\n",
    " - Idade, região de residência, classe econômica.\n",
    " \n",
    " - Rendimento, frequência de viagens.\n",
    "\n",
    " - Nível de engajamento com a marca e com programas de fidelidade em geral.\n",
    "\n",
    "3 . Qual a expectativa de faturamento a partir da conversão dos clientes?\n",
    "\n",
    " - Calcular o valor esperado de receita baseado na probabilidade de assinatura de cada cartão e no ticket médio dos clientes.\n",
    " - Aplicar modelos de séries temporais (ARIMA, Holt-Winters) para prever a evolução da receita nos meses subsequentes.\n",
    "\n",
    "4 . Quais as condições para o cliente ser considerado um potencial assinante?\n",
    "\n",
    " - Critérios de segmentação que identifiquem clientes com alta propensão de assinar o cartão de maior valor, com base no comportamento de compra, histórico de viagens e frequência de interação com a companhia.\n",
    "\n",
    "5 . Qual a taxa de conversão esperada usando as probabilidades?\n",
    "\n",
    " - Realizar testes para validar a eficácia da abordagem baseada em probabilidades.\n",
    "\n",
    " - Estabelecer uma métrica de sucesso baseada no número de assinaturas efetivadas versus o número de contatos realizados.\n",
    "\n",
    "6 . Quais ações o time de marketing pode realizar para aumentar o número de adesões?\n",
    "\n",
    " - Oferecer promoções ou descontos progressivos, conforme a propensão do cliente a assinar o programa de fidelidade.\n",
    "\n",
    " - Disponibilizar benefícios exclusivos para os primeiros meses de assinatura.\n",
    " \n",
    " - Usar segmentação e personalização na comunicação, de acordo com o perfil de cada cliente.\n"
   ]
  },
  {
   "cell_type": "markdown",
   "metadata": {},
   "source": [
    "# 1.0 - IMPORTS"
   ]
  },
  {
   "cell_type": "markdown",
   "metadata": {},
   "source": [
    "## 1.1 - LIBRARIES"
   ]
  },
  {
   "cell_type": "code",
   "execution_count": 92,
   "metadata": {},
   "outputs": [],
   "source": [
    "import gdown\n",
    "import sqlite3\n",
    "import pandas as pd\n",
    "import numpy as np\n",
    "import matplotlib.pyplot as plt\n",
    "import seaborn as sns\n",
    "import plotly.express as px\n",
    "from sklearn.impute import KNNImputer"
   ]
  },
  {
   "cell_type": "markdown",
   "metadata": {},
   "source": [
    "## 1.2 - LOAD DATA"
   ]
  },
  {
   "cell_type": "code",
   "execution_count": 93,
   "metadata": {},
   "outputs": [
    {
     "name": "stderr",
     "output_type": "stream",
     "text": [
      "Downloading...\n",
      "From: https://drive.google.com/uc?id=1HbqPT-GehWmmXnuXegbxx5cnjiXionvP\n",
      "To: /home/erickvieira/Documentos/repos/flight_project/data/dataset.db\n",
      "100%|██████████| 12.6M/12.6M [00:01<00:00, 11.1MB/s]\n"
     ]
    },
    {
     "data": {
      "text/plain": [
       "'../data/dataset.db'"
      ]
     },
     "execution_count": 93,
     "metadata": {},
     "output_type": "execute_result"
    }
   ],
   "source": [
    "# URL do arquivo no Google Drive\n",
    "url = \"https://drive.google.com/uc?id=1HbqPT-GehWmmXnuXegbxx5cnjiXionvP\"\n",
    "\n",
    "# Caminho local onde você deseja salvar o arquivo (substitua pelo seu diretório)\n",
    "output_path = \"../data/dataset.db\"  # Altere aqui\n",
    "\n",
    "# Realiza o download\n",
    "gdown.download(url, output_path, quiet=False)\n"
   ]
  },
  {
   "cell_type": "code",
   "execution_count": 94,
   "metadata": {},
   "outputs": [],
   "source": [
    "db_path = \"../data/dataset.db\"\n",
    "\n",
    "# Conectar ao banco de dados\n",
    "conn = sqlite3.connect(db_path)\n",
    "\n",
    "# Criar o cursor para consultas\n",
    "cursor = conn.cursor()\n",
    "\n",
    "# Realizar a consulta\n",
    "query = \"SELECT * FROM flight_activity fa LEFT JOIN flight_loyalty_history flh ON fa.loyalty_number = flh.loyalty_number\"\n",
    "df_raw = pd.read_sql_query(query, conn)\n",
    "\n",
    "# Fechar a conexão\n",
    "conn.close()"
   ]
  },
  {
   "cell_type": "markdown",
   "metadata": {},
   "source": [
    "## 1.3 - HELPER FUNCTIONS"
   ]
  },
  {
   "cell_type": "markdown",
   "metadata": {},
   "source": [
    "### 1.3.1 - PLOT DIMENSIONS"
   ]
  },
  {
   "cell_type": "code",
   "execution_count": 95,
   "metadata": {},
   "outputs": [],
   "source": [
    "sns.set_theme(rc = {'figure.figsize':(13,5)})"
   ]
  },
  {
   "cell_type": "markdown",
   "metadata": {},
   "source": [
    "### 1.3.2 - OUTLIERS VOLUMETRY"
   ]
  },
  {
   "cell_type": "code",
   "execution_count": 114,
   "metadata": {},
   "outputs": [],
   "source": [
    "def outliers_volumetry(df):\n",
    "    # Selecionar apenas as colunas numéricas\n",
    "    df_num = df.select_dtypes(include=['float64', 'int64'])\n",
    "    outlier = []\n",
    "\n",
    "    # Iterar pelas colunas numéricas\n",
    "    for i in df_num.columns:\n",
    "        q1 = np.quantile(df_num[i], 0.25)\n",
    "        q3 = np.quantile(df_num[i], 0.75)\n",
    "        interquartile_distance = q3 - q1\n",
    "        upper_limit = q3 + 1.5 * interquartile_distance\n",
    "        lower_limit = q1 - 1.5 * interquartile_distance\n",
    "\n",
    "        # Contar outliers\n",
    "        outliers = ((df_num[i] > upper_limit) | (df_num[i] < lower_limit)).sum()\n",
    "\n",
    "        outlier.append(outliers)\n",
    "\n",
    "    # Criar um DataFrame com os resultados\n",
    "    df_outlier = pd.DataFrame()\n",
    "    df_outlier['attributes'] = df_num.columns\n",
    "    df_outlier['quantity'] = outlier\n",
    "    df_outlier['percentual'] = np.round((df_outlier['quantity'] / len(df_num)) * 100, 1)\n",
    "\n",
    "    return df_outlier"
   ]
  },
  {
   "cell_type": "markdown",
   "metadata": {},
   "source": [
    "# 2.0 - DATA DESCRIPTION"
   ]
  },
  {
   "cell_type": "code",
   "execution_count": 97,
   "metadata": {},
   "outputs": [],
   "source": [
    "df2 = df_raw.copy()"
   ]
  },
  {
   "cell_type": "markdown",
   "metadata": {},
   "source": [
    "## 2.1 - DATA DIMENSIONS"
   ]
  },
  {
   "cell_type": "code",
   "execution_count": 98,
   "metadata": {},
   "outputs": [
    {
     "name": "stdout",
     "output_type": "stream",
     "text": [
      "Numero de colunas: 26\n",
      "Numero de linhas: 405624\n",
      "\n",
      "Quantidade de dados unicos para cada feature:\n"
     ]
    },
    {
     "data": {
      "text/plain": [
       "loyalty_number                 16737\n",
       "year                               2\n",
       "month                             12\n",
       "flights_booked                    22\n",
       "flights_with_companions           12\n",
       "total_flights                     33\n",
       "distance                        4746\n",
       "points_accumulated              1549\n",
       "points_redeemed                  587\n",
       "dollar_cost_points_redeemed       49\n",
       "loyalty_number                 16737\n",
       "country                            1\n",
       "province                          11\n",
       "city                              29\n",
       "postal_code                       55\n",
       "gender                             2\n",
       "education                          5\n",
       "salary                          5890\n",
       "marital_status                     3\n",
       "loyalty_card                       3\n",
       "clv                             7984\n",
       "enrollment_type                    2\n",
       "enrollment_year                    7\n",
       "enrollment_month                  12\n",
       "cancellation_year                  6\n",
       "cancellation_month                12\n",
       "dtype: int64"
      ]
     },
     "execution_count": 98,
     "metadata": {},
     "output_type": "execute_result"
    }
   ],
   "source": [
    "print('Numero de colunas: {}'.format(df2.shape[1]))\n",
    "print('Numero de linhas: {}'.format(df2.shape[0]))\n",
    "print('\\nQuantidade de dados unicos para cada feature:')\n",
    "df2.apply(lambda x: x.nunique())"
   ]
  },
  {
   "cell_type": "markdown",
   "metadata": {},
   "source": [
    "## 2.2 - RENAME COLUNS"
   ]
  },
  {
   "cell_type": "code",
   "execution_count": 99,
   "metadata": {},
   "outputs": [
    {
     "data": {
      "text/plain": [
       "Index(['loyalty_number', 'year', 'month', 'flights_booked',\n",
       "       'flights_with_companions', 'total_flights', 'distance',\n",
       "       'points_accumulated', 'points_redeemed', 'dollar_cost_points_redeemed',\n",
       "       'loyalty_number', 'country', 'province', 'city', 'postal_code',\n",
       "       'gender', 'education', 'salary', 'marital_status', 'loyalty_card',\n",
       "       'clv', 'enrollment_type', 'enrollment_year', 'enrollment_month',\n",
       "       'cancellation_year', 'cancellation_month'],\n",
       "      dtype='object')"
      ]
     },
     "execution_count": 99,
     "metadata": {},
     "output_type": "execute_result"
    }
   ],
   "source": [
    "df2.columns"
   ]
  },
  {
   "cell_type": "markdown",
   "metadata": {},
   "source": [
    "## 2.3 - DATA TYPES"
   ]
  },
  {
   "cell_type": "code",
   "execution_count": 100,
   "metadata": {},
   "outputs": [
    {
     "data": {
      "text/plain": [
       "loyalty_number                   int64\n",
       "year                             int64\n",
       "month                            int64\n",
       "flights_booked                   int64\n",
       "flights_with_companions          int64\n",
       "total_flights                    int64\n",
       "distance                         int64\n",
       "points_accumulated             float64\n",
       "points_redeemed                  int64\n",
       "dollar_cost_points_redeemed      int64\n",
       "loyalty_number                   int64\n",
       "country                         object\n",
       "province                        object\n",
       "city                            object\n",
       "postal_code                     object\n",
       "gender                          object\n",
       "education                       object\n",
       "salary                         float64\n",
       "marital_status                  object\n",
       "loyalty_card                    object\n",
       "clv                            float64\n",
       "enrollment_type                 object\n",
       "enrollment_year                  int64\n",
       "enrollment_month                 int64\n",
       "cancellation_year              float64\n",
       "cancellation_month             float64\n",
       "dtype: object"
      ]
     },
     "execution_count": 100,
     "metadata": {},
     "output_type": "execute_result"
    }
   ],
   "source": [
    "df2.dtypes"
   ]
  },
  {
   "cell_type": "markdown",
   "metadata": {},
   "source": [
    "## 2.4 - CHECK DUPLICATE"
   ]
  },
  {
   "cell_type": "code",
   "execution_count": 101,
   "metadata": {},
   "outputs": [
    {
     "name": "stdout",
     "output_type": "stream",
     "text": [
      "['loyalty_number']\n"
     ]
    }
   ],
   "source": [
    "# Identificar as colunas duplicadas\n",
    "duplicated_columns = df2.columns[df2.columns.duplicated()].tolist()\n",
    "\n",
    "# Exibir os nomes das colunas duplicadas\n",
    "print(duplicated_columns)"
   ]
  },
  {
   "cell_type": "code",
   "execution_count": 102,
   "metadata": {},
   "outputs": [],
   "source": [
    "df2 = df2.loc[:, ~df2.columns.duplicated()]"
   ]
  },
  {
   "cell_type": "markdown",
   "metadata": {},
   "source": [
    "## 2.5 - NA VOLUMETRY"
   ]
  },
  {
   "cell_type": "code",
   "execution_count": 103,
   "metadata": {},
   "outputs": [
    {
     "data": {
      "text/html": [
       "<div>\n",
       "<style scoped>\n",
       "    .dataframe tbody tr th:only-of-type {\n",
       "        vertical-align: middle;\n",
       "    }\n",
       "\n",
       "    .dataframe tbody tr th {\n",
       "        vertical-align: top;\n",
       "    }\n",
       "\n",
       "    .dataframe thead th {\n",
       "        text-align: right;\n",
       "    }\n",
       "</style>\n",
       "<table border=\"1\" class=\"dataframe\">\n",
       "  <thead>\n",
       "    <tr style=\"text-align: right;\">\n",
       "      <th></th>\n",
       "      <th>feature</th>\n",
       "      <th>total</th>\n",
       "      <th>percentual</th>\n",
       "    </tr>\n",
       "  </thead>\n",
       "  <tbody>\n",
       "    <tr>\n",
       "      <th>0</th>\n",
       "      <td>loyalty_number</td>\n",
       "      <td>0</td>\n",
       "      <td>0.0</td>\n",
       "    </tr>\n",
       "    <tr>\n",
       "      <th>1</th>\n",
       "      <td>year</td>\n",
       "      <td>0</td>\n",
       "      <td>0.0</td>\n",
       "    </tr>\n",
       "    <tr>\n",
       "      <th>2</th>\n",
       "      <td>month</td>\n",
       "      <td>0</td>\n",
       "      <td>0.0</td>\n",
       "    </tr>\n",
       "    <tr>\n",
       "      <th>3</th>\n",
       "      <td>flights_booked</td>\n",
       "      <td>0</td>\n",
       "      <td>0.0</td>\n",
       "    </tr>\n",
       "    <tr>\n",
       "      <th>4</th>\n",
       "      <td>flights_with_companions</td>\n",
       "      <td>0</td>\n",
       "      <td>0.0</td>\n",
       "    </tr>\n",
       "    <tr>\n",
       "      <th>5</th>\n",
       "      <td>total_flights</td>\n",
       "      <td>0</td>\n",
       "      <td>0.0</td>\n",
       "    </tr>\n",
       "    <tr>\n",
       "      <th>6</th>\n",
       "      <td>distance</td>\n",
       "      <td>0</td>\n",
       "      <td>0.0</td>\n",
       "    </tr>\n",
       "    <tr>\n",
       "      <th>7</th>\n",
       "      <td>points_accumulated</td>\n",
       "      <td>0</td>\n",
       "      <td>0.0</td>\n",
       "    </tr>\n",
       "    <tr>\n",
       "      <th>8</th>\n",
       "      <td>points_redeemed</td>\n",
       "      <td>0</td>\n",
       "      <td>0.0</td>\n",
       "    </tr>\n",
       "    <tr>\n",
       "      <th>9</th>\n",
       "      <td>dollar_cost_points_redeemed</td>\n",
       "      <td>0</td>\n",
       "      <td>0.0</td>\n",
       "    </tr>\n",
       "    <tr>\n",
       "      <th>10</th>\n",
       "      <td>country</td>\n",
       "      <td>0</td>\n",
       "      <td>0.0</td>\n",
       "    </tr>\n",
       "    <tr>\n",
       "      <th>11</th>\n",
       "      <td>province</td>\n",
       "      <td>0</td>\n",
       "      <td>0.0</td>\n",
       "    </tr>\n",
       "    <tr>\n",
       "      <th>12</th>\n",
       "      <td>city</td>\n",
       "      <td>0</td>\n",
       "      <td>0.0</td>\n",
       "    </tr>\n",
       "    <tr>\n",
       "      <th>13</th>\n",
       "      <td>postal_code</td>\n",
       "      <td>0</td>\n",
       "      <td>0.0</td>\n",
       "    </tr>\n",
       "    <tr>\n",
       "      <th>14</th>\n",
       "      <td>gender</td>\n",
       "      <td>0</td>\n",
       "      <td>0.0</td>\n",
       "    </tr>\n",
       "    <tr>\n",
       "      <th>15</th>\n",
       "      <td>education</td>\n",
       "      <td>0</td>\n",
       "      <td>0.0</td>\n",
       "    </tr>\n",
       "    <tr>\n",
       "      <th>16</th>\n",
       "      <td>salary</td>\n",
       "      <td>102672</td>\n",
       "      <td>25.0</td>\n",
       "    </tr>\n",
       "    <tr>\n",
       "      <th>17</th>\n",
       "      <td>marital_status</td>\n",
       "      <td>0</td>\n",
       "      <td>0.0</td>\n",
       "    </tr>\n",
       "    <tr>\n",
       "      <th>18</th>\n",
       "      <td>loyalty_card</td>\n",
       "      <td>0</td>\n",
       "      <td>0.0</td>\n",
       "    </tr>\n",
       "    <tr>\n",
       "      <th>19</th>\n",
       "      <td>clv</td>\n",
       "      <td>0</td>\n",
       "      <td>0.0</td>\n",
       "    </tr>\n",
       "    <tr>\n",
       "      <th>20</th>\n",
       "      <td>enrollment_type</td>\n",
       "      <td>0</td>\n",
       "      <td>0.0</td>\n",
       "    </tr>\n",
       "    <tr>\n",
       "      <th>21</th>\n",
       "      <td>enrollment_year</td>\n",
       "      <td>0</td>\n",
       "      <td>0.0</td>\n",
       "    </tr>\n",
       "    <tr>\n",
       "      <th>22</th>\n",
       "      <td>enrollment_month</td>\n",
       "      <td>0</td>\n",
       "      <td>0.0</td>\n",
       "    </tr>\n",
       "    <tr>\n",
       "      <th>23</th>\n",
       "      <td>cancellation_year</td>\n",
       "      <td>355560</td>\n",
       "      <td>88.0</td>\n",
       "    </tr>\n",
       "    <tr>\n",
       "      <th>24</th>\n",
       "      <td>cancellation_month</td>\n",
       "      <td>355560</td>\n",
       "      <td>88.0</td>\n",
       "    </tr>\n",
       "  </tbody>\n",
       "</table>\n",
       "</div>"
      ],
      "text/plain": [
       "                        feature   total  percentual\n",
       "0                loyalty_number       0         0.0\n",
       "1                          year       0         0.0\n",
       "2                         month       0         0.0\n",
       "3                flights_booked       0         0.0\n",
       "4       flights_with_companions       0         0.0\n",
       "5                 total_flights       0         0.0\n",
       "6                      distance       0         0.0\n",
       "7            points_accumulated       0         0.0\n",
       "8               points_redeemed       0         0.0\n",
       "9   dollar_cost_points_redeemed       0         0.0\n",
       "10                      country       0         0.0\n",
       "11                     province       0         0.0\n",
       "12                         city       0         0.0\n",
       "13                  postal_code       0         0.0\n",
       "14                       gender       0         0.0\n",
       "15                    education       0         0.0\n",
       "16                       salary  102672        25.0\n",
       "17               marital_status       0         0.0\n",
       "18                 loyalty_card       0         0.0\n",
       "19                          clv       0         0.0\n",
       "20              enrollment_type       0         0.0\n",
       "21              enrollment_year       0         0.0\n",
       "22             enrollment_month       0         0.0\n",
       "23            cancellation_year  355560        88.0\n",
       "24           cancellation_month  355560        88.0"
      ]
     },
     "execution_count": 103,
     "metadata": {},
     "output_type": "execute_result"
    }
   ],
   "source": [
    "df_total = pd.DataFrame(np.round(df2.isna().sum())).reset_index()\n",
    "df_percentual = pd.DataFrame(np.round(df2.isna().mean()*100)).reset_index()\n",
    "df_total.columns = ['feature', 'total']\n",
    "df_percentual.columns = ['feature', 'percentual']\n",
    "\n",
    "df_total = df_total.drop_duplicates(subset=['feature'])\n",
    "df_percentual = df_percentual.drop_duplicates(subset=['feature'])\n",
    "\n",
    "# Realizando o merge\n",
    "df_result = pd.merge(df_total, df_percentual, how = 'inner', on='feature')\n",
    "df_result"
   ]
  },
  {
   "cell_type": "markdown",
   "metadata": {},
   "source": [
    "### 2.5.1 - NAN ANALYSIS"
   ]
  },
  {
   "cell_type": "markdown",
   "metadata": {},
   "source": [
    "Iremos deletar da base de dados as features **cancellation_year** e **cancellation_month**, pois correspondem ambas a 355.560, ou seja, 88% dos dados faltantes dessa feature. logo não será viavel reaproveita-la de alguma forma."
   ]
  },
  {
   "cell_type": "code",
   "execution_count": 104,
   "metadata": {},
   "outputs": [],
   "source": [
    "df2 = df2.drop(columns = ['cancellation_year', 'cancellation_month'])"
   ]
  },
  {
   "cell_type": "markdown",
   "metadata": {},
   "source": [
    "Observamos a feature **salary** possui um volume relativamente baixo de NaN, representando apenas 102672, ou seja, 25% desses dados.<br>\n",
    "Nesse contexto sera analisado os salarios baseados no grau escolar, para assim ter um parametro mais proximo de salario de acordo com os dados que são fornecidos:"
   ]
  },
  {
   "cell_type": "code",
   "execution_count": 105,
   "metadata": {},
   "outputs": [
    {
     "name": "stdout",
     "output_type": "stream",
     "text": [
      "Grau escolar de dados não faltantes:\n",
      "\n",
      " education\n",
      "Bachelor                253752\n",
      "High School or Below     19008\n",
      "Doctor                   17856\n",
      "Master                   12336\n",
      "Name: count, dtype: int64\n",
      "\n",
      "Grau escolar de dados faltantes:\n",
      "\n",
      " education\n",
      "College    102672\n",
      "Name: count, dtype: int64\n"
     ]
    }
   ],
   "source": [
    "df_na = df2[['education', 'salary']]\n",
    "#Verificando dados que não possuem NA dentre a feature 'education'\n",
    "print('Grau escolar de dados não faltantes:\\n\\n {}'.format(df_na[~df_na['salary'].isna()]['education'].value_counts()))\n",
    "print('\\nGrau escolar de dados faltantes:\\n\\n {}'.format(df_na[df_na['salary'].isna()]['education'].value_counts()))"
   ]
  },
  {
   "cell_type": "markdown",
   "metadata": {},
   "source": [
    "Após esta avaliação, é observável que dentre os clientes com o grau escolar **College** há integralmente todo volume de NaN.<br> \n",
    "Vamos utilizar de base analítica experimental a média e mediana de cada grau escolar de cada cliente para identificar uma possivel abordagem para esse dado"
   ]
  },
  {
   "cell_type": "code",
   "execution_count": 106,
   "metadata": {},
   "outputs": [
    {
     "data": {
      "text/html": [
       "<div>\n",
       "<style scoped>\n",
       "    .dataframe tbody tr th:only-of-type {\n",
       "        vertical-align: middle;\n",
       "    }\n",
       "\n",
       "    .dataframe tbody tr th {\n",
       "        vertical-align: top;\n",
       "    }\n",
       "\n",
       "    .dataframe thead th {\n",
       "        text-align: right;\n",
       "    }\n",
       "</style>\n",
       "<table border=\"1\" class=\"dataframe\">\n",
       "  <thead>\n",
       "    <tr style=\"text-align: right;\">\n",
       "      <th></th>\n",
       "      <th>education</th>\n",
       "      <th>mean</th>\n",
       "      <th>median</th>\n",
       "    </tr>\n",
       "  </thead>\n",
       "  <tbody>\n",
       "    <tr>\n",
       "      <th>2</th>\n",
       "      <td>High School or Below</td>\n",
       "      <td>60986.544192</td>\n",
       "      <td>61806.0</td>\n",
       "    </tr>\n",
       "    <tr>\n",
       "      <th>0</th>\n",
       "      <td>Bachelor</td>\n",
       "      <td>72476.211860</td>\n",
       "      <td>71971.0</td>\n",
       "    </tr>\n",
       "    <tr>\n",
       "      <th>3</th>\n",
       "      <td>Master</td>\n",
       "      <td>103767.494163</td>\n",
       "      <td>105487.0</td>\n",
       "    </tr>\n",
       "    <tr>\n",
       "      <th>1</th>\n",
       "      <td>Doctor</td>\n",
       "      <td>178335.439516</td>\n",
       "      <td>180440.0</td>\n",
       "    </tr>\n",
       "  </tbody>\n",
       "</table>\n",
       "</div>"
      ],
      "text/plain": [
       "              education           mean    median\n",
       "2  High School or Below   60986.544192   61806.0\n",
       "0              Bachelor   72476.211860   71971.0\n",
       "3                Master  103767.494163  105487.0\n",
       "1                Doctor  178335.439516  180440.0"
      ]
     },
     "execution_count": 106,
     "metadata": {},
     "output_type": "execute_result"
    }
   ],
   "source": [
    "#Filtrando os dados\n",
    "df_filter = df_na.loc[df_na['education'] != 'College']\n",
    "# Calculando a média e mediana de 'salary' para cada categoria de 'education'\n",
    "df_result = df_filter.groupby('education')['salary'].agg(['mean', 'median']).reset_index()\n",
    "df_result = df_result.sort_values(by = 'mean', ascending=True)\n",
    "# Exibindo o resultado\n",
    "df_result = pd.DataFrame(df_result)\n",
    "df_result\n"
   ]
  },
  {
   "cell_type": "code",
   "execution_count": 107,
   "metadata": {},
   "outputs": [
    {
     "data": {
      "image/png": "[encoded data removed]",
      "text/plain": [
       "<Figure size 1300x500 with 2 Axes>"
      ]
     },
     "metadata": {},
     "output_type": "display_data"
    }
   ],
   "source": [
    "df_result.hist()\n",
    "plt.show()"
   ]
  },
  {
   "cell_type": "markdown",
   "metadata": {},
   "source": [
    "Dado a proporção de NaN da feature **Salary** representar 25% dos dados da nossa base, iremos então substituir a nivel e experimento os dados NaN por um range entre a média e a mediana da feature **Education** que possui grau escolar **Bachelor**, afim de manter uma uniformidade e variabilidade entre os dados sem agregar viés."
   ]
  },
  {
   "cell_type": "code",
   "execution_count": 108,
   "metadata": {},
   "outputs": [],
   "source": [
    "#Filtrando dados\n",
    "df_calc_na = df_filter.loc[df_filter['education'] == 'Bachelor']\n",
    "\n",
    "#calculando as medidas\n",
    "mean_salary = df_calc_na['salary'].mean()\n",
    "median_salary = df_calc_na['salary'].median()\n",
    "\n",
    "#calculando a quantidade de NAN\n",
    "total_na = df2['salary'].isna().sum()\n",
    "\n",
    "#definindo limites minimos e maximos\n",
    "lower_limit = min(mean_salary, median_salary)\n",
    "upper_limit = max(mean_salary, median_salary)\n",
    "\n",
    "#Gerando os valores dentro do range de NA com base nos limites\n",
    "fill_values = np.random.uniform(lower_limit, upper_limit, size = total_na)\n",
    "\n",
    "#Prenchendo os valores\n",
    "df2.loc[df2['salary'].isna(), 'salary'] = fill_values"
   ]
  },
  {
   "cell_type": "markdown",
   "metadata": {},
   "source": [
    "## 2.6 - OUTLIERS VOLUMETRY"
   ]
  },
  {
   "cell_type": "code",
   "execution_count": 115,
   "metadata": {},
   "outputs": [
    {
     "data": {
      "text/html": [
       "<div>\n",
       "<style scoped>\n",
       "    .dataframe tbody tr th:only-of-type {\n",
       "        vertical-align: middle;\n",
       "    }\n",
       "\n",
       "    .dataframe tbody tr th {\n",
       "        vertical-align: top;\n",
       "    }\n",
       "\n",
       "    .dataframe thead th {\n",
       "        text-align: right;\n",
       "    }\n",
       "</style>\n",
       "<table border=\"1\" class=\"dataframe\">\n",
       "  <thead>\n",
       "    <tr style=\"text-align: right;\">\n",
       "      <th></th>\n",
       "      <th>attributes</th>\n",
       "      <th>quantity</th>\n",
       "      <th>percentual</th>\n",
       "    </tr>\n",
       "  </thead>\n",
       "  <tbody>\n",
       "    <tr>\n",
       "      <th>0</th>\n",
       "      <td>loyalty_number</td>\n",
       "      <td>0</td>\n",
       "      <td>0.0</td>\n",
       "    </tr>\n",
       "    <tr>\n",
       "      <th>1</th>\n",
       "      <td>year</td>\n",
       "      <td>0</td>\n",
       "      <td>0.0</td>\n",
       "    </tr>\n",
       "    <tr>\n",
       "      <th>2</th>\n",
       "      <td>month</td>\n",
       "      <td>0</td>\n",
       "      <td>0.0</td>\n",
       "    </tr>\n",
       "    <tr>\n",
       "      <th>3</th>\n",
       "      <td>flights_booked</td>\n",
       "      <td>528</td>\n",
       "      <td>0.1</td>\n",
       "    </tr>\n",
       "    <tr>\n",
       "      <th>4</th>\n",
       "      <td>flights_with_companions</td>\n",
       "      <td>71560</td>\n",
       "      <td>17.6</td>\n",
       "    </tr>\n",
       "    <tr>\n",
       "      <th>5</th>\n",
       "      <td>total_flights</td>\n",
       "      <td>1984</td>\n",
       "      <td>0.5</td>\n",
       "    </tr>\n",
       "    <tr>\n",
       "      <th>6</th>\n",
       "      <td>distance</td>\n",
       "      <td>146</td>\n",
       "      <td>0.0</td>\n",
       "    </tr>\n",
       "    <tr>\n",
       "      <th>7</th>\n",
       "      <td>points_accumulated</td>\n",
       "      <td>127</td>\n",
       "      <td>0.0</td>\n",
       "    </tr>\n",
       "    <tr>\n",
       "      <th>8</th>\n",
       "      <td>points_redeemed</td>\n",
       "      <td>24181</td>\n",
       "      <td>6.0</td>\n",
       "    </tr>\n",
       "    <tr>\n",
       "      <th>9</th>\n",
       "      <td>dollar_cost_points_redeemed</td>\n",
       "      <td>24181</td>\n",
       "      <td>6.0</td>\n",
       "    </tr>\n",
       "    <tr>\n",
       "      <th>10</th>\n",
       "      <td>salary</td>\n",
       "      <td>21288</td>\n",
       "      <td>5.2</td>\n",
       "    </tr>\n",
       "    <tr>\n",
       "      <th>11</th>\n",
       "      <td>clv</td>\n",
       "      <td>36192</td>\n",
       "      <td>8.9</td>\n",
       "    </tr>\n",
       "    <tr>\n",
       "      <th>12</th>\n",
       "      <td>enrollment_year</td>\n",
       "      <td>0</td>\n",
       "      <td>0.0</td>\n",
       "    </tr>\n",
       "    <tr>\n",
       "      <th>13</th>\n",
       "      <td>enrollment_month</td>\n",
       "      <td>0</td>\n",
       "      <td>0.0</td>\n",
       "    </tr>\n",
       "  </tbody>\n",
       "</table>\n",
       "</div>"
      ],
      "text/plain": [
       "                     attributes  quantity  percentual\n",
       "0                loyalty_number         0         0.0\n",
       "1                          year         0         0.0\n",
       "2                         month         0         0.0\n",
       "3                flights_booked       528         0.1\n",
       "4       flights_with_companions     71560        17.6\n",
       "5                 total_flights      1984         0.5\n",
       "6                      distance       146         0.0\n",
       "7            points_accumulated       127         0.0\n",
       "8               points_redeemed     24181         6.0\n",
       "9   dollar_cost_points_redeemed     24181         6.0\n",
       "10                       salary     21288         5.2\n",
       "11                          clv     36192         8.9\n",
       "12              enrollment_year         0         0.0\n",
       "13             enrollment_month         0         0.0"
      ]
     },
     "execution_count": 115,
     "metadata": {},
     "output_type": "execute_result"
    }
   ],
   "source": [
    "outliers_volumetry(df2)"
   ]
  },
  {
   "cell_type": "code",
   "execution_count": null,
   "metadata": {},
   "outputs": [],
   "source": []
  }
 ],
 "metadata": {
  "kernelspec": {
   "display_name": "flight",
   "language": "python",
   "name": "python3"
  },
  "language_info": {
   "codemirror_mode": {
    "name": "ipython",
    "version": 3
   },
   "file_extension": ".py",
   "mimetype": "text/x-python",
   "name": "python",
   "nbconvert_exporter": "python",
   "pygments_lexer": "ipython3",
   "version": "3.12.1"
  }
 },
 "nbformat": 4,
 "nbformat_minor": 2
}
