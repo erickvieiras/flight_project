{
 "cells": [
  {
   "cell_type": "code",
   "execution_count": null,
   "metadata": {},
   "outputs": [],
   "source": []
  },
  {
   "cell_type": "markdown",
   "metadata": {},
   "source": [
    "# 1.0 - IMPORTS"
   ]
  },
  {
   "cell_type": "markdown",
   "metadata": {},
   "source": [
    "## 1.1 - LIBRARIES"
   ]
  },
  {
   "cell_type": "code",
   "execution_count": 1,
   "metadata": {},
   "outputs": [],
   "source": [
    "import gdown\n",
    "import sqlite3\n",
    "import pandas as pd\n",
    "import numpy as np"
   ]
  },
  {
   "cell_type": "markdown",
   "metadata": {},
   "source": [
    "## 1.2 - LOAD DATA"
   ]
  },
  {
   "cell_type": "code",
   "execution_count": 2,
   "metadata": {},
   "outputs": [
    {
     "name": "stderr",
     "output_type": "stream",
     "text": [
      "Downloading...\n",
      "From: https://drive.google.com/uc?id=1HbqPT-GehWmmXnuXegbxx5cnjiXionvP\n",
      "To: /home/erickvieira/Documentos/repos/flight_project/data/dataset.db\n",
      "100%|██████████| 12.6M/12.6M [00:01<00:00, 6.54MB/s]\n"
     ]
    },
    {
     "data": {
      "text/plain": [
       "'../data/dataset.db'"
      ]
     },
     "execution_count": 2,
     "metadata": {},
     "output_type": "execute_result"
    }
   ],
   "source": [
    "# URL do arquivo no Google Drive\n",
    "url = \"https://drive.google.com/uc?id=1HbqPT-GehWmmXnuXegbxx5cnjiXionvP\"\n",
    "\n",
    "# Caminho local onde você deseja salvar o arquivo (substitua pelo seu diretório)\n",
    "output_path = \"../data/dataset.db\"  # Altere aqui\n",
    "\n",
    "# Realiza o download\n",
    "gdown.download(url, output_path, quiet=False)\n"
   ]
  },
  {
   "cell_type": "code",
   "execution_count": 3,
   "metadata": {},
   "outputs": [],
   "source": [
    "db_path = \"../data/dataset.db\"\n",
    "\n",
    "# Conectar ao banco de dados\n",
    "conn = sqlite3.connect(db_path)\n",
    "\n",
    "# Criar o cursor para consultas\n",
    "cursor = conn.cursor()\n",
    "\n",
    "# Realizar a consulta\n",
    "query = \"SELECT * FROM flight_activity fa LEFT JOIN flight_loyalty_history flh ON fa.loyalty_number = flh.loyalty_number\"\n",
    "df_raw = pd.read_sql_query(query, conn)\n",
    "\n",
    "# Fechar a conexão\n",
    "conn.close()"
   ]
  },
  {
   "cell_type": "markdown",
   "metadata": {},
   "source": [
    "## 1.3 - HELPER FUNCTIONS"
   ]
  },
  {
   "cell_type": "code",
   "execution_count": null,
   "metadata": {},
   "outputs": [],
   "source": []
  },
  {
   "cell_type": "markdown",
   "metadata": {},
   "source": [
    "# 2.0 - DATA DESCRIPTION"
   ]
  },
  {
   "cell_type": "code",
   "execution_count": 4,
   "metadata": {},
   "outputs": [],
   "source": [
    "df2 = df_raw.copy()"
   ]
  },
  {
   "cell_type": "markdown",
   "metadata": {},
   "source": [
    "## 2.1 - DATA DIMENSIONS"
   ]
  },
  {
   "cell_type": "code",
   "execution_count": 5,
   "metadata": {},
   "outputs": [
    {
     "name": "stdout",
     "output_type": "stream",
     "text": [
      "Numero de colunas: 26\n",
      "Numero de linhas: 405624\n",
      "\n",
      "Quantidade de dados unicos para cada feature:\n"
     ]
    },
    {
     "data": {
      "text/plain": [
       "loyalty_number                 16737\n",
       "year                               2\n",
       "month                             12\n",
       "flights_booked                    22\n",
       "flights_with_companions           12\n",
       "total_flights                     33\n",
       "distance                        4746\n",
       "points_accumulated              1549\n",
       "points_redeemed                  587\n",
       "dollar_cost_points_redeemed       49\n",
       "loyalty_number                 16737\n",
       "country                            1\n",
       "province                          11\n",
       "city                              29\n",
       "postal_code                       55\n",
       "gender                             2\n",
       "education                          5\n",
       "salary                          5890\n",
       "marital_status                     3\n",
       "loyalty_card                       3\n",
       "clv                             7984\n",
       "enrollment_type                    2\n",
       "enrollment_year                    7\n",
       "enrollment_month                  12\n",
       "cancellation_year                  6\n",
       "cancellation_month                12\n",
       "dtype: int64"
      ]
     },
     "execution_count": 5,
     "metadata": {},
     "output_type": "execute_result"
    }
   ],
   "source": [
    "print('Numero de colunas: {}'.format(df2.shape[1]))\n",
    "print('Numero de linhas: {}'.format(df2.shape[0]))\n",
    "print('\\nQuantidade de dados unicos para cada feature:')\n",
    "df2.apply(lambda x: x.nunique())"
   ]
  },
  {
   "cell_type": "markdown",
   "metadata": {},
   "source": [
    "## 2.2 - RENAME COLUNS"
   ]
  },
  {
   "cell_type": "code",
   "execution_count": 6,
   "metadata": {},
   "outputs": [
    {
     "data": {
      "text/plain": [
       "Index(['loyalty_number', 'year', 'month', 'flights_booked',\n",
       "       'flights_with_companions', 'total_flights', 'distance',\n",
       "       'points_accumulated', 'points_redeemed', 'dollar_cost_points_redeemed',\n",
       "       'loyalty_number', 'country', 'province', 'city', 'postal_code',\n",
       "       'gender', 'education', 'salary', 'marital_status', 'loyalty_card',\n",
       "       'clv', 'enrollment_type', 'enrollment_year', 'enrollment_month',\n",
       "       'cancellation_year', 'cancellation_month'],\n",
       "      dtype='object')"
      ]
     },
     "execution_count": 6,
     "metadata": {},
     "output_type": "execute_result"
    }
   ],
   "source": [
    "df2.columns"
   ]
  },
  {
   "cell_type": "markdown",
   "metadata": {},
   "source": [
    "## 2.3 - DATA TYPES"
   ]
  },
  {
   "cell_type": "code",
   "execution_count": 7,
   "metadata": {},
   "outputs": [
    {
     "data": {
      "text/plain": [
       "loyalty_number                   int64\n",
       "year                             int64\n",
       "month                            int64\n",
       "flights_booked                   int64\n",
       "flights_with_companions          int64\n",
       "total_flights                    int64\n",
       "distance                         int64\n",
       "points_accumulated             float64\n",
       "points_redeemed                  int64\n",
       "dollar_cost_points_redeemed      int64\n",
       "loyalty_number                   int64\n",
       "country                         object\n",
       "province                        object\n",
       "city                            object\n",
       "postal_code                     object\n",
       "gender                          object\n",
       "education                       object\n",
       "salary                         float64\n",
       "marital_status                  object\n",
       "loyalty_card                    object\n",
       "clv                            float64\n",
       "enrollment_type                 object\n",
       "enrollment_year                  int64\n",
       "enrollment_month                 int64\n",
       "cancellation_year              float64\n",
       "cancellation_month             float64\n",
       "dtype: object"
      ]
     },
     "execution_count": 7,
     "metadata": {},
     "output_type": "execute_result"
    }
   ],
   "source": [
    "df2.dtypes"
   ]
  },
  {
   "cell_type": "markdown",
   "metadata": {},
   "source": [
    "## 2.4 - NA VOLUMETRY"
   ]
  },
  {
   "cell_type": "code",
   "execution_count": 14,
   "metadata": {},
   "outputs": [
    {
     "data": {
      "text/html": [
       "<div>\n",
       "<style scoped>\n",
       "    .dataframe tbody tr th:only-of-type {\n",
       "        vertical-align: middle;\n",
       "    }\n",
       "\n",
       "    .dataframe tbody tr th {\n",
       "        vertical-align: top;\n",
       "    }\n",
       "\n",
       "    .dataframe thead th {\n",
       "        text-align: right;\n",
       "    }\n",
       "</style>\n",
       "<table border=\"1\" class=\"dataframe\">\n",
       "  <thead>\n",
       "    <tr style=\"text-align: right;\">\n",
       "      <th></th>\n",
       "      <th>feature</th>\n",
       "      <th>total</th>\n",
       "      <th>percentual</th>\n",
       "    </tr>\n",
       "  </thead>\n",
       "  <tbody>\n",
       "    <tr>\n",
       "      <th>0</th>\n",
       "      <td>loyalty_number</td>\n",
       "      <td>0</td>\n",
       "      <td>0.0</td>\n",
       "    </tr>\n",
       "    <tr>\n",
       "      <th>1</th>\n",
       "      <td>loyalty_number</td>\n",
       "      <td>0</td>\n",
       "      <td>0.0</td>\n",
       "    </tr>\n",
       "    <tr>\n",
       "      <th>2</th>\n",
       "      <td>year</td>\n",
       "      <td>0</td>\n",
       "      <td>0.0</td>\n",
       "    </tr>\n",
       "    <tr>\n",
       "      <th>3</th>\n",
       "      <td>month</td>\n",
       "      <td>0</td>\n",
       "      <td>0.0</td>\n",
       "    </tr>\n",
       "    <tr>\n",
       "      <th>4</th>\n",
       "      <td>flights_booked</td>\n",
       "      <td>0</td>\n",
       "      <td>0.0</td>\n",
       "    </tr>\n",
       "    <tr>\n",
       "      <th>5</th>\n",
       "      <td>flights_with_companions</td>\n",
       "      <td>0</td>\n",
       "      <td>0.0</td>\n",
       "    </tr>\n",
       "    <tr>\n",
       "      <th>6</th>\n",
       "      <td>total_flights</td>\n",
       "      <td>0</td>\n",
       "      <td>0.0</td>\n",
       "    </tr>\n",
       "    <tr>\n",
       "      <th>7</th>\n",
       "      <td>distance</td>\n",
       "      <td>0</td>\n",
       "      <td>0.0</td>\n",
       "    </tr>\n",
       "    <tr>\n",
       "      <th>8</th>\n",
       "      <td>points_accumulated</td>\n",
       "      <td>0</td>\n",
       "      <td>0.0</td>\n",
       "    </tr>\n",
       "    <tr>\n",
       "      <th>9</th>\n",
       "      <td>points_redeemed</td>\n",
       "      <td>0</td>\n",
       "      <td>0.0</td>\n",
       "    </tr>\n",
       "    <tr>\n",
       "      <th>10</th>\n",
       "      <td>dollar_cost_points_redeemed</td>\n",
       "      <td>0</td>\n",
       "      <td>0.0</td>\n",
       "    </tr>\n",
       "    <tr>\n",
       "      <th>11</th>\n",
       "      <td>loyalty_number</td>\n",
       "      <td>0</td>\n",
       "      <td>0.0</td>\n",
       "    </tr>\n",
       "    <tr>\n",
       "      <th>12</th>\n",
       "      <td>loyalty_number</td>\n",
       "      <td>0</td>\n",
       "      <td>0.0</td>\n",
       "    </tr>\n",
       "    <tr>\n",
       "      <th>13</th>\n",
       "      <td>country</td>\n",
       "      <td>0</td>\n",
       "      <td>0.0</td>\n",
       "    </tr>\n",
       "    <tr>\n",
       "      <th>14</th>\n",
       "      <td>province</td>\n",
       "      <td>0</td>\n",
       "      <td>0.0</td>\n",
       "    </tr>\n",
       "    <tr>\n",
       "      <th>15</th>\n",
       "      <td>city</td>\n",
       "      <td>0</td>\n",
       "      <td>0.0</td>\n",
       "    </tr>\n",
       "    <tr>\n",
       "      <th>16</th>\n",
       "      <td>postal_code</td>\n",
       "      <td>0</td>\n",
       "      <td>0.0</td>\n",
       "    </tr>\n",
       "    <tr>\n",
       "      <th>17</th>\n",
       "      <td>gender</td>\n",
       "      <td>0</td>\n",
       "      <td>0.0</td>\n",
       "    </tr>\n",
       "    <tr>\n",
       "      <th>18</th>\n",
       "      <td>education</td>\n",
       "      <td>0</td>\n",
       "      <td>0.0</td>\n",
       "    </tr>\n",
       "    <tr>\n",
       "      <th>19</th>\n",
       "      <td>salary</td>\n",
       "      <td>102672</td>\n",
       "      <td>25.0</td>\n",
       "    </tr>\n",
       "    <tr>\n",
       "      <th>20</th>\n",
       "      <td>marital_status</td>\n",
       "      <td>0</td>\n",
       "      <td>0.0</td>\n",
       "    </tr>\n",
       "    <tr>\n",
       "      <th>21</th>\n",
       "      <td>loyalty_card</td>\n",
       "      <td>0</td>\n",
       "      <td>0.0</td>\n",
       "    </tr>\n",
       "    <tr>\n",
       "      <th>22</th>\n",
       "      <td>clv</td>\n",
       "      <td>0</td>\n",
       "      <td>0.0</td>\n",
       "    </tr>\n",
       "    <tr>\n",
       "      <th>23</th>\n",
       "      <td>enrollment_type</td>\n",
       "      <td>0</td>\n",
       "      <td>0.0</td>\n",
       "    </tr>\n",
       "    <tr>\n",
       "      <th>24</th>\n",
       "      <td>enrollment_year</td>\n",
       "      <td>0</td>\n",
       "      <td>0.0</td>\n",
       "    </tr>\n",
       "    <tr>\n",
       "      <th>25</th>\n",
       "      <td>enrollment_month</td>\n",
       "      <td>0</td>\n",
       "      <td>0.0</td>\n",
       "    </tr>\n",
       "    <tr>\n",
       "      <th>26</th>\n",
       "      <td>cancellation_year</td>\n",
       "      <td>355560</td>\n",
       "      <td>88.0</td>\n",
       "    </tr>\n",
       "    <tr>\n",
       "      <th>27</th>\n",
       "      <td>cancellation_month</td>\n",
       "      <td>355560</td>\n",
       "      <td>88.0</td>\n",
       "    </tr>\n",
       "  </tbody>\n",
       "</table>\n",
       "</div>"
      ],
      "text/plain": [
       "                        feature   total  percentual\n",
       "0                loyalty_number       0         0.0\n",
       "1                loyalty_number       0         0.0\n",
       "2                          year       0         0.0\n",
       "3                         month       0         0.0\n",
       "4                flights_booked       0         0.0\n",
       "5       flights_with_companions       0         0.0\n",
       "6                 total_flights       0         0.0\n",
       "7                      distance       0         0.0\n",
       "8            points_accumulated       0         0.0\n",
       "9               points_redeemed       0         0.0\n",
       "10  dollar_cost_points_redeemed       0         0.0\n",
       "11               loyalty_number       0         0.0\n",
       "12               loyalty_number       0         0.0\n",
       "13                      country       0         0.0\n",
       "14                     province       0         0.0\n",
       "15                         city       0         0.0\n",
       "16                  postal_code       0         0.0\n",
       "17                       gender       0         0.0\n",
       "18                    education       0         0.0\n",
       "19                       salary  102672        25.0\n",
       "20               marital_status       0         0.0\n",
       "21                 loyalty_card       0         0.0\n",
       "22                          clv       0         0.0\n",
       "23              enrollment_type       0         0.0\n",
       "24              enrollment_year       0         0.0\n",
       "25             enrollment_month       0         0.0\n",
       "26            cancellation_year  355560        88.0\n",
       "27           cancellation_month  355560        88.0"
      ]
     },
     "execution_count": 14,
     "metadata": {},
     "output_type": "execute_result"
    }
   ],
   "source": [
    "df_total = pd.DataFrame(np.round(df2.isna().sum())).reset_index()\n",
    "df_percentual = pd.DataFrame(np.round(df2.isna().mean()*100)).reset_index()\n",
    "df_total.columns = ['feature', 'total']\n",
    "df_percentual.columns = ['feature', 'percentual']\n",
    "\n",
    "# Realizando o merge\n",
    "df_final = pd.merge(df_total, df_percentual, on='feature')\n",
    "df_final"
   ]
  },
  {
   "cell_type": "code",
   "execution_count": null,
   "metadata": {},
   "outputs": [],
   "source": []
  }
 ],
 "metadata": {
  "kernelspec": {
   "display_name": "flight",
   "language": "python",
   "name": "python3"
  },
  "language_info": {
   "codemirror_mode": {
    "name": "ipython",
    "version": 3
   },
   "file_extension": ".py",
   "mimetype": "text/x-python",
   "name": "python",
   "nbconvert_exporter": "python",
   "pygments_lexer": "ipython3",
   "version": "3.12.1"
  }
 },
 "nbformat": 4,
 "nbformat_minor": 2
}
